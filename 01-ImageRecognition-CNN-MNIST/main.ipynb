{
  "cells": [
    {
      "cell_type": "markdown",
      "id": "8dcc81cf",
      "metadata": {
        "id": "8dcc81cf"
      },
      "source": [
        "# Load Data"
      ]
    },
    {
      "cell_type": "code",
      "source": [
        "import matplotlib.pyplot as plt\n",
        "import keras\n",
        "from keras.datasets import mnist"
      ],
      "metadata": {
        "id": "VRBl5KotJPvC"
      },
      "id": "VRBl5KotJPvC",
      "execution_count": 23,
      "outputs": []
    },
    {
      "cell_type": "code",
      "source": [
        "(X_train, y_train), (X_test, y_test) = mnist.load_data()"
      ],
      "metadata": {
        "id": "YJITv5jBJds0",
        "outputId": "713f5a3c-4411-482d-cb9a-e8ca25056b3f",
        "colab": {
          "base_uri": "https://localhost:8080/"
        }
      },
      "id": "YJITv5jBJds0",
      "execution_count": 24,
      "outputs": [
        {
          "output_type": "stream",
          "name": "stdout",
          "text": [
            "Downloading data from https://storage.googleapis.com/tensorflow/tf-keras-datasets/mnist.npz\n",
            "11493376/11490434 [==============================] - 0s 0us/step\n",
            "11501568/11490434 [==============================] - 0s 0us/step\n"
          ]
        }
      ]
    },
    {
      "cell_type": "code",
      "source": [
        "X_train.shape, y_train.shape, X_test.shape, y_test.shape"
      ],
      "metadata": {
        "id": "KJMHXsi4J-9j",
        "outputId": "4ed221af-95f1-40ca-c580-1550c05a9944",
        "colab": {
          "base_uri": "https://localhost:8080/"
        }
      },
      "id": "KJMHXsi4J-9j",
      "execution_count": 25,
      "outputs": [
        {
          "output_type": "execute_result",
          "data": {
            "text/plain": [
              "((60000, 28, 28), (60000,), (10000, 28, 28), (10000,))"
            ]
          },
          "metadata": {},
          "execution_count": 25
        }
      ]
    },
    {
      "cell_type": "code",
      "source": [
        "# Display data as an image\n",
        "for i in [0,4]:\n",
        "  print(y_train[i])\n",
        "  plt.imshow(X_train[i,:,:], cmap = \"Greys\")\n",
        "  plt.show()\n"
      ],
      "metadata": {
        "id": "btCIA2K1LFJz",
        "outputId": "45868fa7-9dba-4944-eb04-353fc066f536",
        "colab": {
          "base_uri": "https://localhost:8080/",
          "height": 548
        }
      },
      "id": "btCIA2K1LFJz",
      "execution_count": null,
      "outputs": [
        {
          "output_type": "stream",
          "name": "stdout",
          "text": [
            "5\n"
          ]
        },
        {
          "output_type": "display_data",
          "data": {
            "image/png": "[encoded data removed]",
            "text/plain": [
              "<Figure size 432x288 with 1 Axes>"
            ]
          },
          "metadata": {
            "needs_background": "light"
          }
        },
        {
          "output_type": "stream",
          "name": "stdout",
          "text": [
            "9\n"
          ]
        },
        {
          "output_type": "display_data",
          "data": {
            "image/png": "[encoded data removed]",
            "text/plain": [
              "<Figure size 432x288 with 1 Axes>"
            ]
          },
          "metadata": {
            "needs_background": "light"
          }
        }
      ]
    },
    {
      "cell_type": "code",
      "source": [
        "from keras.models import Sequential\n",
        "from keras.layers import Dense, Conv2D, Dropout, Flatten, MaxPooling2D\n",
        "from keras.utils.np_utils import to_categorical\n",
        "from keras.callbacks import EarlyStopping, ModelCheckpoint"
      ],
      "metadata": {
        "id": "LJXg7ceENOb9"
      },
      "id": "LJXg7ceENOb9",
      "execution_count": 53,
      "outputs": []
    },
    {
      "cell_type": "code",
      "source": [
        "from keras import callbacks\n",
        "# define the model\n",
        "model = Sequential()\n",
        "model.add(Conv2D(64, kernel_size=(3,3), input_shape=(28, 28, 1)))\n",
        "model.add(MaxPooling2D(pool_size=(2,2)))\n",
        "model.add(Flatten())\n",
        "# model.add(Dense(64, activation='relu'))\n",
        "# model.add(Dropout(0.3))\n",
        "model.add(Dense(10, activation='softmax'))\n",
        "\n",
        "model.compile(optimizer='adam', loss='sparse_categorical_crossentropy', metrics=['accuracy'])"
      ],
      "metadata": {
        "id": "yK2cRsedQnwZ"
      },
      "id": "yK2cRsedQnwZ",
      "execution_count": 64,
      "outputs": []
    },
    {
      "cell_type": "code",
      "source": [
        "model.fit(X_train, y_train, epochs = 3, batch_size = 128, validation_data=(X_test, y_test),\n",
        "          callbacks = [EarlyStopping(patience=2), ModelCheckpoint('our_best_model.hdf5', save_best_only=True)])"
      ],
      "metadata": {
        "id": "4ic4fnujSJmJ",
        "outputId": "98b49065-d2c2-461a-dcfc-8a2f110038e4",
        "colab": {
          "base_uri": "https://localhost:8080/"
        }
      },
      "id": "4ic4fnujSJmJ",
      "execution_count": 65,
      "outputs": [
        {
          "output_type": "stream",
          "name": "stdout",
          "text": [
            "Epoch 1/3\n",
            "469/469 [==============================] - 32s 68ms/step - loss: 1.6601 - accuracy: 0.9119 - val_loss: 0.5716 - val_accuracy: 0.9380\n",
            "Epoch 2/3\n",
            "469/469 [==============================] - 32s 67ms/step - loss: 0.3645 - accuracy: 0.9559 - val_loss: 0.3647 - val_accuracy: 0.9532\n",
            "Epoch 3/3\n",
            "469/469 [==============================] - 31s 67ms/step - loss: 0.2545 - accuracy: 0.9631 - val_loss: 0.3580 - val_accuracy: 0.9587\n"
          ]
        },
        {
          "output_type": "execute_result",
          "data": {
            "text/plain": [
              "<keras.callbacks.History at 0x7feff1c611d0>"
            ]
          },
          "metadata": {},
          "execution_count": 65
        }
      ]
    },
    {
      "cell_type": "code",
      "source": [
        "model.summary()"
      ],
      "metadata": {
        "id": "u5TJG_ZHTI9v",
        "outputId": "1ae6e238-75f2-4276-b7c1-b663901959e6",
        "colab": {
          "base_uri": "https://localhost:8080/"
        }
      },
      "id": "u5TJG_ZHTI9v",
      "execution_count": 66,
      "outputs": [
        {
          "output_type": "stream",
          "name": "stdout",
          "text": [
            "Model: \"sequential_11\"\n",
            "_________________________________________________________________\n",
            " Layer (type)                Output Shape              Param #   \n",
            "=================================================================\n",
            " conv2d_11 (Conv2D)          (None, 26, 26, 64)        640       \n",
            "                                                                 \n",
            " max_pooling2d_11 (MaxPoolin  (None, 13, 13, 64)       0         \n",
            " g2D)                                                            \n",
            "                                                                 \n",
            " flatten_11 (Flatten)        (None, 10816)             0         \n",
            "                                                                 \n",
            " dense_22 (Dense)            (None, 10)                108170    \n",
            "                                                                 \n",
            "=================================================================\n",
            "Total params: 108,810\n",
            "Trainable params: 108,810\n",
            "Non-trainable params: 0\n",
            "_________________________________________________________________\n"
          ]
        }
      ]
    },
    {
      "cell_type": "code",
      "source": [
        "model.history.history"
      ],
      "metadata": {
        "id": "PlUowtm7ZKLA",
        "outputId": "4b3c2197-889b-4643-941c-19b268960ced",
        "colab": {
          "base_uri": "https://localhost:8080/"
        }
      },
      "id": "PlUowtm7ZKLA",
      "execution_count": 74,
      "outputs": [
        {
          "output_type": "execute_result",
          "data": {
            "text/plain": [
              "{'accuracy': [0.9119333624839783, 0.9559000134468079, 0.9630833268165588],\n",
              " 'loss': [1.6600978374481201, 0.36445048451423645, 0.25452256202697754],\n",
              " 'val_accuracy': [0.9380000233650208, 0.9531999826431274, 0.9587000012397766],\n",
              " 'val_loss': [0.5715726017951965, 0.36466965079307556, 0.35796618461608887]}"
            ]
          },
          "metadata": {},
          "execution_count": 74
        }
      ]
    },
    {
      "cell_type": "code",
      "source": [
        "import seaborn as sns\n",
        "plt.plot(model.history.history['accuracy'], color = 'r')\n",
        "plt.plot(model.history.history['val_accuracy'], color = 'g')"
      ],
      "metadata": {
        "id": "1EOui65_V2GS",
        "outputId": "72566794-0dba-4496-8f13-902b15ecb66b",
        "colab": {
          "base_uri": "https://localhost:8080/",
          "height": 282
        }
      },
      "id": "1EOui65_V2GS",
      "execution_count": 76,
      "outputs": [
        {
          "output_type": "execute_result",
          "data": {
            "text/plain": [
              "[<matplotlib.lines.Line2D at 0x7fefe4d87c90>]"
            ]
          },
          "metadata": {},
          "execution_count": 76
        },
        {
          "output_type": "display_data",
          "data": {
            "image/png": "[encoded data removed]",
            "text/plain": [
              "<Figure size 432x288 with 1 Axes>"
            ]
          },
          "metadata": {
            "needs_background": "light"
          }
        }
      ]
    },
    {
      "cell_type": "code",
      "source": [
        "# returns val_loss and val_accuracy\n",
        "# we got this before in the process of fitting\n",
        "# useful when we validated the training model with the validated data; and using test data once at the end for final test!\n",
        "model.evaluate(X_test, y_test)"
      ],
      "metadata": {
        "id": "Ga8S2r_CZWC7",
        "outputId": "056d6c83-3184-4a71-afa7-89d880856f5b",
        "colab": {
          "base_uri": "https://localhost:8080/"
        }
      },
      "id": "Ga8S2r_CZWC7",
      "execution_count": 81,
      "outputs": [
        {
          "output_type": "stream",
          "name": "stdout",
          "text": [
            "313/313 [==============================] - 2s 8ms/step - loss: 0.3580 - accuracy: 0.9587\n"
          ]
        },
        {
          "output_type": "execute_result",
          "data": {
            "text/plain": [
              "[0.35796627402305603, 0.9587000012397766]"
            ]
          },
          "metadata": {},
          "execution_count": 81
        }
      ]
    },
    {
      "cell_type": "code",
      "source": [
        "plt.imshow(X_test[100,:,:])\n",
        "plt.show()\n",
        "print(y_test[100])\n",
        "model.predict(X_test[100,:,:].reshape(1,28,28,1)).argmax()"
      ],
      "metadata": {
        "id": "HOL5vNhiSYjm",
        "outputId": "8e9c7e6f-f55c-413a-ca2b-3c30a3559382",
        "colab": {
          "base_uri": "https://localhost:8080/",
          "height": 300
        }
      },
      "id": "HOL5vNhiSYjm",
      "execution_count": 83,
      "outputs": [
        {
          "output_type": "display_data",
          "data": {
            "image/png": "[encoded data removed]",
            "text/plain": [
              "<Figure size 432x288 with 1 Axes>"
            ]
          },
          "metadata": {
            "needs_background": "light"
          }
        },
        {
          "output_type": "stream",
          "name": "stdout",
          "text": [
            "6\n"
          ]
        },
        {
          "output_type": "execute_result",
          "data": {
            "text/plain": [
              "6"
            ]
          },
          "metadata": {},
          "execution_count": 83
        }
      ]
    }
  ],
  "metadata": {
    "kernelspec": {
      "display_name": "Python 3",
      "language": "python",
      "name": "python3"
    },
    "language_info": {
      "codemirror_mode": {
        "name": "ipython",
        "version": 3
      },
      "file_extension": ".py",
      "mimetype": "text/x-python",
      "name": "python",
      "nbconvert_exporter": "python",
      "pygments_lexer": "ipython3",
      "version": "3.9.5"
    },
    "colab": {
      "name": "main.ipynb",
      "provenance": []
    }
  },
  "nbformat": 4,
  "nbformat_minor": 5
}